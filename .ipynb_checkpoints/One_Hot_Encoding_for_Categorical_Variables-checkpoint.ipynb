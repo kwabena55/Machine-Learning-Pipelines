{
 "cells": [
  {
   "cell_type": "markdown",
   "metadata": {
    "colab_type": "text",
    "id": "view-in-github"
   },
   "source": [
    "<a href=\"https://colab.research.google.com/github/kwabena55/Machine-Learning-Pipelines/blob/master/One_Hot_Encoding_for_Categorical_Variables.ipynb\" target=\"_parent\"><img src=\"https://colab.research.google.com/assets/colab-badge.svg\" alt=\"Open In Colab\"/></a>"
   ]
  },
  {
   "cell_type": "markdown",
   "metadata": {
    "colab_type": "text",
    "id": "CivjC_XYRkdW"
   },
   "source": [
    "# One Hot Encoding- variables with many categories\n",
    "https://www.kaggle.com/aditya1702/mercedes-benz-data-exploration/data"
   ]
  },
  {
   "cell_type": "code",
   "execution_count": null,
   "metadata": {
    "colab": {},
    "colab_type": "code",
    "id": "v03z4ndoRujc"
   },
   "outputs": [],
   "source": [
    "import pandas as pd\n",
    "import numpy as np\n"
   ]
  },
  {
   "cell_type": "code",
   "execution_count": null,
   "metadata": {
    "colab": {},
    "colab_type": "code",
    "id": "2k-YxMGHRRpI"
   },
   "outputs": [],
   "source": [
    "#Import Data In Google Colab\n",
    "from google.colab import drive\n",
    "drive.mount('/gdrive')\n",
    "%cd /gdrive"
   ]
  },
  {
   "cell_type": "code",
   "execution_count": null,
   "metadata": {
    "colab": {},
    "colab_type": "code",
    "id": "-Z_xAOk9VO7U"
   },
   "outputs": [],
   "source": [
    "%cd '/gdrive/My Drive/Machine Learning Pipelines'"
   ]
  },
  {
   "cell_type": "code",
   "execution_count": null,
   "metadata": {
    "colab": {},
    "colab_type": "code",
    "id": "X_MM6lzRVagj"
   },
   "outputs": [],
   "source": [
    "%ls\n",
    "\n",
    " \n"
   ]
  },
  {
   "cell_type": "code",
   "execution_count": null,
   "metadata": {
    "colab": {},
    "colab_type": "code",
    "id": "UEtIiO3_VnXZ"
   },
   "outputs": [],
   "source": [
    "data=pd.read_csv('mercedesbenz.csv',usecols='X1 X2 X3 X4 X5 X6'.split()) #or you can parse columns individually"
   ]
  },
  {
   "cell_type": "code",
   "execution_count": null,
   "metadata": {
    "colab": {},
    "colab_type": "code",
    "id": "P_78y1hNXpNl"
   },
   "outputs": [],
   "source": [
    "data"
   ]
  },
  {
   "cell_type": "code",
   "execution_count": null,
   "metadata": {
    "colab": {},
    "colab_type": "code",
    "id": "C2Oct8ZtXyNb"
   },
   "outputs": [],
   "source": [
    "#Find out the number of unique categories in each columns\n",
    "\n",
    "for i in data.columns:\n",
    "  print(f\" the unique count for {i} is : {data[i].nunique()}\")"
   ]
  },
  {
   "cell_type": "code",
   "execution_count": null,
   "metadata": {
    "colab": {},
    "colab_type": "code",
    "id": "odkN6q4wYnFt"
   },
   "outputs": [],
   "source": [
    "#how many columns to obtain adfter one hot encoding\n",
    "pd.get_dummies(data['X1']).shape[1]"
   ]
  },
  {
   "cell_type": "code",
   "execution_count": null,
   "metadata": {
    "colab": {},
    "colab_type": "code",
    "id": "3HIwo9IilJnn"
   },
   "outputs": [],
   "source": [
    "pd.get_dummies(data['X1'])"
   ]
  },
  {
   "cell_type": "code",
   "execution_count": null,
   "metadata": {
    "colab": {},
    "colab_type": "code",
    "id": "1vo3LtNmZVMd"
   },
   "outputs": [],
   "source": [
    "#print to show what each each variable gives in terms of columns\n",
    "for i in data.columns:\n",
    "  print (f\"{i} :gives {pd.get_dummies(data[i]).shape[1]} columns and {pd.get_dummies(data[i]).shape[0]} rows\")"
   ]
  },
  {
   "cell_type": "code",
   "execution_count": null,
   "metadata": {
    "colab": {},
    "colab_type": "code",
    "id": "zsV831gTZxeN"
   },
   "outputs": [],
   "source": [
    "top_10=[i for i in data.X2.value_counts().sort_values(ascending=False).head(10).index]  #.index prints the variables itself"
   ]
  },
  {
   "cell_type": "code",
   "execution_count": null,
   "metadata": {
    "colab": {},
    "colab_type": "code",
    "id": "PfrQApKmd4Ea"
   },
   "outputs": [],
   "source": [
    "top_10"
   ]
  },
  {
   "cell_type": "code",
   "execution_count": null,
   "metadata": {
    "colab": {},
    "colab_type": "code",
    "id": "eHl0z3d1eDzD"
   },
   "outputs": [],
   "source": [
    "\n"
   ]
  },
  {
   "cell_type": "code",
   "execution_count": null,
   "metadata": {
    "colab": {},
    "colab_type": "code",
    "id": "l-byCr_Tf3z3"
   },
   "outputs": [],
   "source": [
    "for i in data.columns:\n",
    "  x=[]\n",
    "  top_10=data[i].value_counts().sort_values(ascending=False).head(10).index\n",
    "  xx=x.append(top_10)\n",
    "  print(x)"
   ]
  },
  {
   "cell_type": "code",
   "execution_count": null,
   "metadata": {
    "colab": {},
    "colab_type": "code",
    "id": "6uPSrOUpf5zp"
   },
   "outputs": [],
   "source": [
    "for i in data.columns:\n",
    "  #  print(f\" the unique count for {i} is : {data[i].nunique()}\")\n",
    "   print(f\" the unique count  for {i} is npthing but : {pd.get_dummies(data[i]).shape[0]}\")\n",
    "   "
   ]
  },
  {
   "cell_type": "code",
   "execution_count": null,
   "metadata": {
    "colab": {},
    "colab_type": "code",
    "id": "6zVP9IaGg1Tq"
   },
   "outputs": [],
   "source": []
  }
 ],
 "metadata": {
  "colab": {
   "authorship_tag": "ABX9TyP6Mgw43jL/NKWGoUH4T2em",
   "collapsed_sections": [],
   "include_colab_link": true,
   "name": "One Hot Encoding for Categorical Variables.ipynb",
   "private_outputs": true,
   "provenance": []
  },
  "kernelspec": {
   "display_name": "Python 3",
   "language": "python",
   "name": "python3"
  },
  "language_info": {
   "codemirror_mode": {
    "name": "ipython",
    "version": 3
   },
   "file_extension": ".py",
   "mimetype": "text/x-python",
   "name": "python",
   "nbconvert_exporter": "python",
   "pygments_lexer": "ipython3",
   "version": "3.8.3"
  }
 },
 "nbformat": 4,
 "nbformat_minor": 1
}
