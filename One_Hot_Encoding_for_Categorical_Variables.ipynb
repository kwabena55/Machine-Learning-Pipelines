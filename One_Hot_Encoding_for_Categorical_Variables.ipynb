{
  "nbformat": 4,
  "nbformat_minor": 0,
  "metadata": {
    "colab": {
      "name": "One Hot Encoding for Categorical Variables.ipynb",
      "provenance": [],
      "private_outputs": true,
      "collapsed_sections": [],
      "authorship_tag": "ABX9TyP6Mgw43jL/NKWGoUH4T2em",
      "include_colab_link": true
    },
    "kernelspec": {
      "name": "python3",
      "display_name": "Python 3"
    }
  },
  "cells": [
    {
      "cell_type": "markdown",
      "metadata": {
        "id": "view-in-github",
        "colab_type": "text"
      },
      "source": [
        "<a href=\"https://colab.research.google.com/github/kwabena55/Machine-Learning-Pipelines/blob/master/One_Hot_Encoding_for_Categorical_Variables.ipynb\" target=\"_parent\"><img src=\"https://colab.research.google.com/assets/colab-badge.svg\" alt=\"Open In Colab\"/></a>"
      ]
    },
    {
      "cell_type": "markdown",
      "metadata": {
        "id": "CivjC_XYRkdW",
        "colab_type": "text"
      },
      "source": [
        "# One Hot Encoding- variables with many categories\n",
        "https://www.kaggle.com/aditya1702/mercedes-benz-data-exploration/data"
      ]
    },
    {
      "cell_type": "code",
      "metadata": {
        "id": "v03z4ndoRujc",
        "colab_type": "code",
        "colab": {}
      },
      "source": [
        "import pandas as pd\n",
        "import numpy as np\n"
      ],
      "execution_count": null,
      "outputs": []
    },
    {
      "cell_type": "code",
      "metadata": {
        "id": "2k-YxMGHRRpI",
        "colab_type": "code",
        "colab": {}
      },
      "source": [
        "#Import Data In Google Colab\n",
        "from google.colab import drive\n",
        "drive.mount('/gdrive')\n",
        "%cd /gdrive"
      ],
      "execution_count": null,
      "outputs": []
    },
    {
      "cell_type": "code",
      "metadata": {
        "id": "-Z_xAOk9VO7U",
        "colab_type": "code",
        "colab": {}
      },
      "source": [
        "%cd '/gdrive/My Drive/Machine Learning Pipelines'"
      ],
      "execution_count": null,
      "outputs": []
    },
    {
      "cell_type": "code",
      "metadata": {
        "id": "X_MM6lzRVagj",
        "colab_type": "code",
        "colab": {}
      },
      "source": [
        "%ls\n",
        "\n",
        " \n"
      ],
      "execution_count": null,
      "outputs": []
    },
    {
      "cell_type": "code",
      "metadata": {
        "id": "UEtIiO3_VnXZ",
        "colab_type": "code",
        "colab": {}
      },
      "source": [
        "data=pd.read_csv('mercedesbenz.csv',usecols='X1 X2 X3 X4 X5 X6'.split()) #or you can parse columns individually"
      ],
      "execution_count": null,
      "outputs": []
    },
    {
      "cell_type": "code",
      "metadata": {
        "id": "P_78y1hNXpNl",
        "colab_type": "code",
        "colab": {}
      },
      "source": [
        "data"
      ],
      "execution_count": null,
      "outputs": []
    },
    {
      "cell_type": "code",
      "metadata": {
        "id": "C2Oct8ZtXyNb",
        "colab_type": "code",
        "colab": {}
      },
      "source": [
        "#Find out the number of unique categories in each columns\n",
        "\n",
        "for i in data.columns:\n",
        "  print(f\" the unique count for {i} is : {data[i].nunique()}\")"
      ],
      "execution_count": null,
      "outputs": []
    },
    {
      "cell_type": "code",
      "metadata": {
        "id": "odkN6q4wYnFt",
        "colab_type": "code",
        "colab": {}
      },
      "source": [
        "#how many columns to obtain adfter one hot encoding\n",
        "pd.get_dummies(data['X1']).shape[1]"
      ],
      "execution_count": null,
      "outputs": []
    },
    {
      "cell_type": "code",
      "metadata": {
        "id": "3HIwo9IilJnn",
        "colab_type": "code",
        "colab": {}
      },
      "source": [
        "pd.get_dummies(data['X1'])"
      ],
      "execution_count": null,
      "outputs": []
    },
    {
      "cell_type": "code",
      "metadata": {
        "id": "1vo3LtNmZVMd",
        "colab_type": "code",
        "colab": {}
      },
      "source": [
        "#print to show what each each variable gives in terms of columns\n",
        "for i in data.columns:\n",
        "  print (f\"{i} :gives {pd.get_dummies(data[i]).shape[1]} columns and {pd.get_dummies(data[i]).shape[0]} rows\")"
      ],
      "execution_count": null,
      "outputs": []
    },
    {
      "cell_type": "code",
      "metadata": {
        "id": "zsV831gTZxeN",
        "colab_type": "code",
        "colab": {}
      },
      "source": [
        "top_10=[i for i in data.X2.value_counts().sort_values(ascending=False).head(10).index]  #.index prints the variables itself"
      ],
      "execution_count": null,
      "outputs": []
    },
    {
      "cell_type": "code",
      "metadata": {
        "id": "PfrQApKmd4Ea",
        "colab_type": "code",
        "colab": {}
      },
      "source": [
        "top_10"
      ],
      "execution_count": null,
      "outputs": []
    },
    {
      "cell_type": "code",
      "metadata": {
        "id": "eHl0z3d1eDzD",
        "colab_type": "code",
        "colab": {}
      },
      "source": [
        "\n"
      ],
      "execution_count": null,
      "outputs": []
    },
    {
      "cell_type": "code",
      "metadata": {
        "id": "l-byCr_Tf3z3",
        "colab_type": "code",
        "colab": {}
      },
      "source": [
        "for i in data.columns:\n",
        "  x=[]\n",
        "  top_10=data[i].value_counts().sort_values(ascending=False).head(10).index\n",
        "  xx=x.append(top_10)\n",
        "  print(x)"
      ],
      "execution_count": null,
      "outputs": []
    },
    {
      "cell_type": "code",
      "metadata": {
        "id": "6uPSrOUpf5zp",
        "colab_type": "code",
        "colab": {}
      },
      "source": [
        "for i in data.columns:\n",
        "  #  print(f\" the unique count for {i} is : {data[i].nunique()}\")\n",
        "   print(f\" the unique count  for {i} is npthing but : {pd.get_dummies(data[i]).shape[0]}\")\n",
        "   "
      ],
      "execution_count": null,
      "outputs": []
    },
    {
      "cell_type": "code",
      "metadata": {
        "id": "6zVP9IaGg1Tq",
        "colab_type": "code",
        "colab": {}
      },
      "source": [
        ""
      ],
      "execution_count": null,
      "outputs": []
    }
  ]
}